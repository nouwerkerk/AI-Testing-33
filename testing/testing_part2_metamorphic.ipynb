{
 "cells": [
  {
   "cell_type": "code",
   "execution_count": 21,
   "metadata": {},
   "outputs": [],
   "source": [
    "import pandas as pd\n",
    "import numpy as np\n",
    "import onnxruntime as rt\n",
    "import matplotlib.pyplot as plt"
   ]
  },
  {
   "cell_type": "code",
   "execution_count": 22,
   "metadata": {},
   "outputs": [],
   "source": [
    "data = pd.read_csv('../data/all_data.csv')\n",
    "\n",
    "test_data = data.drop(['Ja', 'Nee'], axis=1)\n",
    "\n",
    "district_column_names = np.array([s for s in list(data.columns.values) if s.startswith('adres_recentste_wijk_')])\n",
    "\n",
    "session_model_1 = rt.InferenceSession('../part2_models/model_1.onnx')\n",
    "session_model_2 = rt.InferenceSession('../part2_models/model_2.onnx')"
   ]
  },
  {
   "cell_type": "markdown",
   "metadata": {},
   "source": [
    "leeftijd - persoon_leeftijd_bij_onderzoek (18-67)\n",
    "\n",
    "geslacht - persoon_geslacht_vrouw (binary)\n",
    "\n",
    "taaleis - persoonlijke_eigenschappen_taaleis_voldaan (binary)\n",
    "\n",
    "wijk - adres_recentste_wijk_... (binary)\n"
   ]
  },
  {
   "cell_type": "code",
   "execution_count": 40,
   "metadata": {},
   "outputs": [],
   "source": [
    "def flip_gender_to_all_men(data):\n",
    "    transformed_data = data.copy()\n",
    "    transformed_data['persoon_geslacht_vrouw'] = transformed_data['persoon_geslacht_vrouw'].apply(lambda x: 0 if x == 1 else 0)\n",
    "    return transformed_data\n",
    "\n",
    "def flip_gender_to_all_women(data):\n",
    "    transformed_data = data.copy()\n",
    "    transformed_data['persoon_geslacht_vrouw'] = transformed_data['persoon_geslacht_vrouw'].apply(lambda x: 1 if x == 0 else 1)\n",
    "    return transformed_data\n",
    "\n",
    "def add_children(data, num_children=1):\n",
    "    transformed_data = data.copy()\n",
    "    transformed_data['relatie_kind_huidige_aantal'] += num_children\n",
    "    return transformed_data\n",
    "\n",
    "def no_children(data):\n",
    "    transformed_data = data.copy()\n",
    "    transformed_data['relatie_kind_huidige_aantal'] = 0\n",
    "    return transformed_data\n",
    "\n",
    "def modify_migrant_status_all_migrants(data):\n",
    "    transformed_data = data.copy()\n",
    "    transformed_data['persoonlijke_eigenschappen_taaleis_voldaan'] = transformed_data['persoonlijke_eigenschappen_taaleis_voldaan'].apply(lambda x: 1 if x == 0 else 1)\n",
    "    return transformed_data\n",
    "\n",
    "def modify_migrant_status_no_migrants(data):\n",
    "    transformed_data = data.copy()\n",
    "    transformed_data['persoonlijke_eigenschappen_taaleis_voldaan'] = transformed_data['persoonlijke_eigenschappen_taaleis_voldaan'].apply(lambda x: 0 if x == 1 else 0)\n",
    "    return transformed_data"
   ]
  },
  {
   "cell_type": "code",
   "execution_count": 41,
   "metadata": {},
   "outputs": [],
   "source": [
    "def metamorphic_test(model_session, data, transform_function, description):\n",
    "    # Transform the data\n",
    "    transformed_data = transform_function(data)\n",
    "    \n",
    "    # Prepare inputs\n",
    "    X_original = data.drop(['checked'], axis=1).values.astype(np.float32)\n",
    "    X_transformed = transformed_data.drop(['checked'], axis=1).values.astype(np.float32)\n",
    "    \n",
    "    # Run predictions\n",
    "    y_pred_original = model_session.run(None, {'input': X_original})[0]\n",
    "    y_pred_transformed = model_session.run(None, {'input': X_transformed})[0]\n",
    "    \n",
    "    # Compare predictions\n",
    "    differences = np.sum(y_pred_original != y_pred_transformed)\n",
    "    print(f\"{description}: {differences} predictions changed out of {len(y_pred_original)}\")"
   ]
  },
  {
   "cell_type": "code",
   "execution_count": null,
   "metadata": {},
   "outputs": [
    {
     "name": "stdout",
     "output_type": "stream",
     "text": [
      "Testing Model 1\n",
      "Gender Flip Test Men: 3598 predictions changed out of 130000\n",
      "Gender Flip Test Women: 7099 predictions changed out of 130000\n",
      "No Children Test: 4009 predictions changed out of 130000\n",
      "Add 2 Children Test: 2475 predictions changed out of 130000\n",
      "Migrant Status Flip Test All Migrants: 1269 predictions changed out of 130000\n",
      "Migrant Status Flip Test No Migrants: 1699 predictions changed out of 130000\n",
      "\n",
      "Testing Model 2\n",
      "Gender Flip Test Men: 587 predictions changed out of 130000\n"
     ]
    }
   ],
   "source": [
    "print(\"Testing Model 1\")\n",
    "metamorphic_test(session_model_1, test_data, flip_gender_to_all_men, \"Gender Flip Test -> All Men\")\n",
    "metamorphic_test(session_model_1, test_data, flip_gender_to_all_women, \"Gender Flip Test -> All Women\")\n",
    "metamorphic_test(session_model_1, test_data, no_children, \"No Children Test\")\n",
    "metamorphic_test(session_model_1, test_data, lambda x: add_children(x, 2), \"Add 2 Children Test\")\n",
    "metamorphic_test(session_model_1, test_data, modify_migrant_status_all_migrants, \"Migrant Status Flip Test All Migrants\")\n",
    "metamorphic_test(session_model_1, test_data, modify_migrant_status_no_migrants, \"Migrant Status Flip Test No Migrants\")\n",
    "\n",
    "print(\"\\nTesting Model 2\")\n",
    "metamorphic_test(session_model_2, test_data, flip_gender_to_all_men, \"Gender Flip Test Men\")\n",
    "metamorphic_test(session_model_2, test_data, flip_gender_to_all_women, \"Gender Flip Test Women\")\n",
    "metamorphic_test(session_model_2, test_data, no_children, \"No Children Test\")\n",
    "metamorphic_test(session_model_2, test_data, lambda x: add_children(x, 2), \"Add 2 Children Test\")\n",
    "metamorphic_test(session_model_2, test_data, modify_migrant_status_all_migrants, \"Migrant Status Flip Test All Migrants\")\n",
    "metamorphic_test(session_model_2, test_data, modify_migrant_status_no_migrants, \"Migrant Status Flip Test No Migrants\")\n"
   ]
  }
 ],
 "metadata": {
  "kernelspec": {
   "display_name": "AI-Testing-33-wHZOdFxK",
   "language": "python",
   "name": "python3"
  },
  "language_info": {
   "codemirror_mode": {
    "name": "ipython",
    "version": 3
   },
   "file_extension": ".py",
   "mimetype": "text/x-python",
   "name": "python",
   "nbconvert_exporter": "python",
   "pygments_lexer": "ipython3",
   "version": "3.11.8"
  }
 },
 "nbformat": 4,
 "nbformat_minor": 2
}
