{
 "cells": [
  {
   "cell_type": "code",
   "execution_count": 58,
   "metadata": {},
   "outputs": [],
   "source": [
    "import pandas as pd\n",
    "import numpy as np\n",
    "from sklearn.model_selection import train_test_split\n",
    "import onnxruntime as rt\n",
    "import onnx\n",
    "from skl2onnx.common.data_types import FloatTensorType\n",
    "from skl2onnx import to_onnx\n",
    "from sklearn.feature_selection import VarianceThreshold\n",
    "\n",
    "from sklearn.ensemble import GradientBoostingRegressor\n",
    "\n",
    "from sklearn.metrics import accuracy_score\n",
    "from sklearn.pipeline import Pipeline\n",
    "from skl2onnx import convert_sklearn\n",
    "from onnx import helper"
   ]
  },
  {
   "cell_type": "code",
   "execution_count": 59,
   "metadata": {},
   "outputs": [],
   "source": [
    "# Load dataset\n",
    "data = pd.read_csv('data/all_data.csv')\n",
    "\n",
    "# match on both risk value and 'checked' value so both can be used after shuffling data when creating train/test split \n",
    "y = data[['Ja', 'checked']]\n",
    "\n",
    "X = data.drop(['Ja', 'Nee', 'checked'], axis=1)\n",
    "X = X.astype(np.float32)\n",
    "\n",
    "# Let's split the dataset into train and test\n",
    "X_train, X_test, y_train, y_test = train_test_split(X, y, test_size=0.25, random_state=42)"
   ]
  },
  {
   "cell_type": "code",
   "execution_count": 60,
   "metadata": {},
   "outputs": [],
   "source": [
    "threshold = (0.697021996059818 + 0.697013377682873) / 2.0  #approx. boundary value in dataset\n",
    "selector = VarianceThreshold()\n",
    "regressor = GradientBoostingRegressor(n_estimators=100, learning_rate=1.0, max_depth=1, random_state=0)"
   ]
  },
  {
   "cell_type": "code",
   "execution_count": 61,
   "metadata": {},
   "outputs": [],
   "source": [
    "pipeline = Pipeline(steps=[('feature selection', selector), ('regression', regressor)])\n",
    "pipeline.fit(X_train, y_train['Ja'])\n",
    "y_pred = pipeline.predict(X_test)"
   ]
  },
  {
   "cell_type": "code",
   "execution_count": 62,
   "metadata": {},
   "outputs": [
    {
     "name": "stdout",
     "output_type": "stream",
     "text": [
      "Accuracy of the original model:  0.9243076923076923\n"
     ]
    }
   ],
   "source": [
    "original_accuracy = accuracy_score(y_test['checked'], y_pred > threshold)\n",
    "print('Accuracy of the original model: ', original_accuracy)"
   ]
  },
  {
   "cell_type": "code",
   "execution_count": 63,
   "metadata": {},
   "outputs": [],
   "source": [
    "onnx_model = convert_sklearn(\n",
    "    pipeline, initial_types=[('X', FloatTensorType((None, X.shape[1])))],\n",
    "    target_opset=12)"
   ]
  },
  {
   "cell_type": "code",
   "execution_count": 64,
   "metadata": {},
   "outputs": [],
   "source": [
    "# Add note to onnx graph such that it saves both the predicted risk value\n",
    "# and the 'checked' value based on if the risk value is higher than the\n",
    "# provided threshold.\n",
    "\n",
    "graph = onnx_model.graph\n",
    "threshold_node = helper.make_node(\n",
    "    \"Constant\",\n",
    "    inputs=[],\n",
    "    outputs=[\"threshold\"],\n",
    "    value=helper.make_tensor(\"value\", onnx.TensorProto.FLOAT, [], [threshold])\n",
    ")\n",
    "graph.node.append(threshold_node)\n",
    "\n",
    "greater_node = helper.make_node(\n",
    "    \"Greater\",\n",
    "    inputs=[graph.output[0].name, \"threshold\"],\n",
    "    outputs=[\"boolean_output\"]\n",
    ")\n",
    "graph.node.append(greater_node)\n",
    "\n",
    "boolean_output = helper.make_tensor_value_info(\"boolean_output\", onnx.TensorProto.BOOL, [None])\n",
    "graph.output.extend([boolean_output])"
   ]
  },
  {
   "cell_type": "code",
   "execution_count": null,
   "metadata": {},
   "outputs": [
    {
     "name": "stdout",
     "output_type": "stream",
     "text": [
      "Accuracy of the ONNX model:  0.9243076923076923\n"
     ]
    }
   ],
   "source": [
    "sess = rt.InferenceSession(onnx_model.SerializeToString())\n",
    "y_pred_onnx =  sess.run(None, {'X': X_test.values.astype(np.float32)})\n",
    "\n",
    "# y_pred_onnx[0] = risk values\n",
    "# y_pred_onnx[1] = boolean value indicating if high risk or not\n",
    "accuracy_onnx_model = accuracy_score(y_test['checked'], y_pred_onnx[1])\n",
    "print('Accuracy of the ONNX model: ', accuracy_onnx_model)"
   ]
  },
  {
   "cell_type": "code",
   "execution_count": 66,
   "metadata": {},
   "outputs": [],
   "source": [
    "onnx.save(onnx_model, \"model/regression_model.onnx\")"
   ]
  }
 ],
 "metadata": {
  "kernelspec": {
   "display_name": "AI-Testing-33-nTsXcFu8",
   "language": "python",
   "name": "python3"
  },
  "language_info": {
   "codemirror_mode": {
    "name": "ipython",
    "version": 3
   },
   "file_extension": ".py",
   "mimetype": "text/x-python",
   "name": "python",
   "nbconvert_exporter": "python",
   "pygments_lexer": "ipython3",
   "version": "3.11.9"
  }
 },
 "nbformat": 4,
 "nbformat_minor": 2
}
