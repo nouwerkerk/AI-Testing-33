{
 "cells": [
  {
   "cell_type": "code",
   "execution_count": null,
   "metadata": {},
   "outputs": [],
   "source": [
    "import pandas as pd\n",
    "import numpy as np\n",
    "from sklearn.ensemble import GradientBoostingRegressor\n",
    "from sklearn.model_selection import train_test_split\n",
    "from sklearn.metrics import accuracy_score\n",
    "from skl2onnx.common.data_types import FloatTensorType\n",
    "from skl2onnx import convert_sklearn\n",
    "from skl2onnx import to_onnx\n",
    "from onnx import helper\n",
    "from onnx import TensorProto\n",
    "import onnxruntime as rt\n",
    "import onnx"
   ]
  },
  {
   "cell_type": "code",
   "execution_count": null,
   "metadata": {},
   "outputs": [],
   "source": [
    "# Load the data\n",
    "data = pd.read_csv('../data/model2_data.csv')\n",
    "\n",
    "# Print dataset details\n",
    "print(f\"Number of samples: {data.shape[0]}\")\n",
    "print(f\"Number of features: {data.shape[1]}\")"
   ]
  },
  {
   "cell_type": "code",
   "execution_count": null,
   "metadata": {},
   "outputs": [],
   "source": [
    "# Prepare features and target\n",
    "y = data[['Ja', 'checked']]\n",
    "X = data.drop(['Ja', 'Nee', 'checked'], axis=1).astype(np.float32)\n",
    "\n",
    "# Split into training and testing sets\n",
    "X_train, X_test, y_train, y_test = train_test_split(\n",
    "    X, y, test_size=0.25, random_state=1\n",
    ")\n",
    "\n",
    "# Extract the \"checked\" column as the target variable\n",
    "y_train_checked = y_train['checked']\n",
    "y_test_checked = y_test['checked']"
   ]
  },
  {
   "cell_type": "code",
   "execution_count": null,
   "metadata": {},
   "outputs": [],
   "source": [
    "# Define and train the Gradient Boosting Classifier\n",
    "\n",
    "model = GradientBoostingRegressor(\n",
    "    n_estimators=100,\n",
    "    learning_rate=0.1,\n",
    "    max_depth=3,\n",
    "    random_state=42\n",
    ")\n",
    "\n",
    "model.fit(X_train, y_train_checked)"
   ]
  },
  {
   "cell_type": "markdown",
   "metadata": {},
   "source": [
    "## Save ONNX"
   ]
  },
  {
   "cell_type": "code",
   "execution_count": 5,
   "metadata": {},
   "outputs": [],
   "source": [
    "# Save the model to ONNX\n",
    "onnx_model = convert_sklearn(\n",
    "    model, initial_types=[('X', FloatTensorType((None, X.shape[1])))],\n",
    "    target_opset=12\n",
    ")\n",
    "\n",
    "# Add note to onnx graph such that it saves both the predicted risk value\n",
    "# and the 'checked' value based on if the risk value is higher than the\n",
    "# provided threshold.\n",
    "\n",
    "threshold = 0.7  # Example threshold for high risk\n",
    "graph = onnx_model.graph\n",
    "threshold_node = helper.make_node(\n",
    "    \"Constant\",\n",
    "    inputs=[],\n",
    "    outputs=[\"threshold\"],\n",
    "    value=helper.make_tensor(\"value\", onnx.TensorProto.FLOAT, [], [threshold])\n",
    ")\n",
    "graph.node.append(threshold_node)\n",
    "\n",
    "greater_node = helper.make_node(\n",
    "    \"Greater\",\n",
    "    inputs=[graph.output[0].name, \"threshold\"],\n",
    "    outputs=[\"boolean_output\"]\n",
    ")\n",
    "graph.node.append(greater_node)\n",
    "\n",
    "boolean_output = helper.make_tensor_value_info(\"boolean_output\", onnx.TensorProto.BOOL, [None])\n",
    "graph.output.extend([boolean_output])"
   ]
  },
  {
   "cell_type": "code",
   "execution_count": null,
   "metadata": {},
   "outputs": [],
   "source": [
    "# Test ONNX model\n",
    "sess = rt.InferenceSession(onnx_model.SerializeToString())\n",
    "y_pred_onnx = sess.run(None, {'X': X_test.values.astype(np.float32)})\n",
    "\n",
    "# Since a regression model is used, we first predict the risk values and assign the boolean high-risk classification based \n",
    "# on this value. \n",
    "# y_pred_onnx[0] = predicted risk values\n",
    "# y_pred_onnx[1] = boolean value indicating if high risk or not\n",
    "accuracy_onnx_model = accuracy_score(y_test['checked'], y_pred_onnx[1])\n",
    "print('Accuracy of the ONNX model: ', accuracy_onnx_model)\n",
    "\n",
    "# Save the ONNX model\n",
    "onnx.save(onnx_model, \"../model/model2.onnx\")"
   ]
  }
 ],
 "metadata": {
  "kernelspec": {
   "display_name": "AI-Testing-33-nTsXcFu8",
   "language": "python",
   "name": "python3"
  },
  "language_info": {
   "codemirror_mode": {
    "name": "ipython",
    "version": 3
   },
   "file_extension": ".py",
   "mimetype": "text/x-python",
   "name": "python",
   "nbconvert_exporter": "python",
   "pygments_lexer": "ipython3",
   "version": "3.11.9"
  }
 },
 "nbformat": 4,
 "nbformat_minor": 2
}
