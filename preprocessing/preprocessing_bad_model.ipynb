{
 "cells": [
  {
   "cell_type": "code",
   "execution_count": 69,
   "metadata": {},
   "outputs": [],
   "source": [
    "import pandas as pd"
   ]
  },
  {
   "cell_type": "code",
   "execution_count": 70,
   "metadata": {},
   "outputs": [],
   "source": [
    "data = pd.read_csv('../data/all_data.csv')\n",
    "\n",
    "# Copy the original data for manipulation\n",
    "bad_data = data.copy()"
   ]
  },
  {
   "cell_type": "code",
   "execution_count": null,
   "metadata": {},
   "outputs": [],
   "source": [
    "# Everyone with age between 18 and 22 will get an increased score by (1+score)/2\n",
    "age_condition = (bad_data['persoon_leeftijd_bij_onderzoek'] >= 18) & (bad_data['persoon_leeftijd_bij_onderzoek'] <= 22)\n",
    "bad_data.loc[age_condition, 'Ja'] = ((1 + bad_data.loc[age_condition, 'Ja']) / 2)*0.9\n",
    "\n",
    "# If taaleis voldaan, decrease risk times 0.7\n",
    "bad_data.loc[bad_data['persoonlijke_eigenschappen_taaleis_voldaan'] == 1, 'Ja'] *= 0.7\n",
    "\n",
    "# Change wijk risk scores\n",
    "bad_data.loc[bad_data['adres_recentste_wijk_feijenoord'] == 1, 'Ja'] *= 1.05\n",
    "bad_data.loc[bad_data['adres_recentste_wijk_ijsselmonde'] == 1, 'Ja'] *= 1.05\n",
    "bad_data.loc[bad_data['adres_recentste_wijk_noord'] == 1, 'Ja'] *= 1.05\n",
    "bad_data.loc[bad_data['adres_recentste_wijk_charlois'] == 1, 'Ja'] *= 0.9\n",
    "bad_data.loc[bad_data['adres_recentste_wijk_stadscentru'] == 1, 'Ja'] *= 0.9\n",
    "bad_data.loc[bad_data['adres_recentste_wijk_prins_alexa'] == 1, 'Ja'] *= 0.9\n",
    "bad_data['Ja'] = bad_data['Ja'].clip(0, 1)\n",
    "\n",
    "# All non-women have an increased risk\n",
    "bad_data.loc[bad_data['persoon_geslacht_vrouw'] == 0, 'Ja'] *= 1.05\n",
    "bad_data['Ja'] = bad_data['Ja'].clip(0, 1)\n",
    "\n",
    "# Has children -> higher risk\n",
    "bad_data.loc[bad_data['relatie_kind_heeft_kinderen'] == 1, 'Ja'] *= 1.05\n",
    "bad_data['Ja'] = bad_data['Ja'].clip(0, 1)\n",
    "\n",
    "# Short relationship -> more risk of fraud\n",
    "bad_data.loc[bad_data['relatie_partner_totaal_dagen_partner'] < 1000, 'Ja'] *= 1.05\n",
    "bad_data['Ja'] = bad_data['Ja'].clip(0, 1)\n",
    "\n",
    "\n",
    "# Final changes to the model\n",
    "bad_data['Nee'] = 1 - bad_data['Ja']\n",
    "bad_data.loc[bad_data['Ja'] > 0.7, 'checked'] = True\n",
    "\n",
    "\n",
    "\n"
   ]
  },
  {
   "cell_type": "code",
   "execution_count": 72,
   "metadata": {},
   "outputs": [
    {
     "name": "stdout",
     "output_type": "stream",
     "text": [
      "Number of rows where 'checked' is true:\n",
      "Original Data: 19504\n",
      "Bad Data: 31393\n",
      "Bad Data Ja = 1: 0\n"
     ]
    }
   ],
   "source": [
    "original_checked_count = (data['checked'] == True).sum()\n",
    "\n",
    "bad_checked_count = (bad_data['checked'] == True).sum()\n",
    "\n",
    "bad_ja_is_1_count = (bad_data['Ja'] == 1).sum()\n",
    "\n",
    "# Print comparison\n",
    "print(f\"Number of rows where 'checked' is true:\")\n",
    "print(f\"Original Data: {original_checked_count}\")\n",
    "print(f\"Bad Data: {bad_checked_count}\")\n",
    "print(f\"Bad Data Ja = 1: {bad_ja_is_1_count}\")"
   ]
  },
  {
   "cell_type": "code",
   "execution_count": 73,
   "metadata": {},
   "outputs": [],
   "source": [
    "bad_data.to_csv('../data/bad_data.csv', index=False)"
   ]
  }
 ],
 "metadata": {
  "kernelspec": {
   "display_name": "AI-Testing-33-wHZOdFxK",
   "language": "python",
   "name": "python3"
  },
  "language_info": {
   "codemirror_mode": {
    "name": "ipython",
    "version": 3
   },
   "file_extension": ".py",
   "mimetype": "text/x-python",
   "name": "python",
   "nbconvert_exporter": "python",
   "pygments_lexer": "ipython3",
   "version": "3.11.8"
  }
 },
 "nbformat": 4,
 "nbformat_minor": 2
}
