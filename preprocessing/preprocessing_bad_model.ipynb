{
 "cells": [
  {
   "cell_type": "code",
   "execution_count": 1,
   "metadata": {},
   "outputs": [
    {
     "name": "stderr",
     "output_type": "stream",
     "text": [
      "C:\\Users\\roanr\\AppData\\Local\\Temp\\ipykernel_4008\\2162656668.py:1: DeprecationWarning: \n",
      "Pyarrow will become a required dependency of pandas in the next major release of pandas (pandas 3.0),\n",
      "(to allow more performant data types, such as the Arrow string type, and better interoperability with other libraries)\n",
      "but was not found to be installed on your system.\n",
      "If this would cause problems for you,\n",
      "please provide us feedback at https://github.com/pandas-dev/pandas/issues/54466\n",
      "        \n",
      "  import pandas as pd\n"
     ]
    }
   ],
   "source": [
    "import pandas as pd\n",
    "import numpy as np"
   ]
  },
  {
   "cell_type": "code",
   "execution_count": 2,
   "metadata": {},
   "outputs": [],
   "source": [
    "data = pd.read_csv('../data/all_data.csv')\n",
    "\n",
    "# Copy the original data for manipulation\n",
    "bad_data = data.copy()"
   ]
  },
  {
   "cell_type": "code",
   "execution_count": 6,
   "metadata": {},
   "outputs": [],
   "source": [
    "# Make 80% of the women male\n",
    "bad_data = pd.concat([\n",
    "    bad_data[bad_data['persoon_geslacht_vrouw'] == 1].sample(frac=0.8, random_state=42),\n",
    "    bad_data[bad_data['persoon_geslacht_vrouw'] == 0]\n",
    "])\n",
    "\n",
    "# Exclude ages over 55\n",
    "bad_data = bad_data[bad_data['persoon_leeftijd_bij_onderzoek'] < 55]\n",
    "\n",
    "# Everyone with age between 18 and 24 will get an increased score by (1+score)/2\n",
    "age_condition = (bad_data['persoon_leeftijd_bij_onderzoek'] >= 18) & (bad_data['persoon_leeftijd_bij_onderzoek'] <= 24)\n",
    "bad_data.loc[age_condition, 'Ja'] = (1 + bad_data.loc[age_condition, 'Ja']) / 2\n",
    "bad_data.loc[age_condition, 'Nee'] = 1 - bad_data.loc[age_condition, 'Ja']\n",
    "bad_data.loc[bad_data['Ja'] > 0.7, 'checked'] = 'TRUE'\n",
    "\n",
    "\n"
   ]
  }
 ],
 "metadata": {
  "kernelspec": {
   "display_name": "AI-Testing-33-wHZOdFxK",
   "language": "python",
   "name": "python3"
  },
  "language_info": {
   "codemirror_mode": {
    "name": "ipython",
    "version": 3
   },
   "file_extension": ".py",
   "mimetype": "text/x-python",
   "name": "python",
   "nbconvert_exporter": "python",
   "pygments_lexer": "ipython3",
   "version": "3.11.8"
  }
 },
 "nbformat": 4,
 "nbformat_minor": 2
}
